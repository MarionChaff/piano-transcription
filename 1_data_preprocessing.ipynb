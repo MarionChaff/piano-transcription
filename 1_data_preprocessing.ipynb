{
  "cells": [
    {
      "cell_type": "markdown",
      "metadata": {
        "id": "5yvxhl-D_cJz"
      },
      "source": [
        "1. <u>Imports and downloads</u>"
      ]
    },
    {
      "cell_type": "code",
      "execution_count": null,
      "metadata": {
        "id": "tCtU9dvp_cmf"
      },
      "outputs": [],
      "source": [
        "#!pip install mido\n",
        "#!pip install midi2audio\n",
        "#!pip install google-cloud-storage\n",
        "#!apt-get install -y fluidsynth"
      ]
    },
    {
      "cell_type": "code",
      "execution_count": null,
      "metadata": {
        "id": "YCdqOmjI_eSj"
      },
      "outputs": [],
      "source": [
        "# Imports\n",
        "\n",
        "# Calc\n",
        "import numpy as np\n",
        "import random\n",
        "import pickle\n",
        "\n",
        "# Audio\n",
        "from mido import MidiFile, MidiTrack, Message\n",
        "from midi2audio import FluidSynth\n",
        "import librosa\n",
        "import pygame\n",
        "import mido\n",
        "\n",
        "# Image\n",
        "from PIL import Image\n",
        "\n",
        "# Visualisation\n",
        "import matplotlib.pyplot as plt\n",
        "\n",
        "# Cloud\n",
        "from io import BytesIO\n",
        "from google.colab import auth\n",
        "from google.cloud import storage\n",
        "\n",
        "# File management\n",
        "import os\n",
        "import tempfile"
      ]
    },
    {
      "cell_type": "code",
      "execution_count": null,
      "metadata": {
        "id": "3s-Ub7Dn_fv_"
      },
      "outputs": [],
      "source": [
        "# Cloud authentification\n",
        "\n",
        "auth.authenticate_user()\n",
        "client = storage.Client()\n",
        "bucket = client.get_bucket('piano-transcription')"
      ]
    },
    {
      "cell_type": "code",
      "execution_count": null,
      "metadata": {
        "id": "qjim5dJa_mvn"
      },
      "outputs": [],
      "source": [
        "# Useful directories & paths\n",
        "\n",
        "soundfont_path = 'soundfont/FluidR3_GM.sf2'\n",
        "midi_directory = 'midi'\n",
        "wav_directory = 'wav'\n",
        "spectrograms_directory = 'spectrograms'"
      ]
    },
    {
      "cell_type": "markdown",
      "metadata": {
        "id": "CKUXpRcuuAvC"
      },
      "source": [
        "<u>2. Useful functions</u>"
      ]
    },
    {
      "cell_type": "code",
      "execution_count": null,
      "metadata": {
        "id": "mBEb0_5tTFUE"
      },
      "outputs": [],
      "source": [
        "# Manage file storage on GCS\n",
        "\n",
        "def save_pkl_to_gcp(data_list, destination_blob):\n",
        "    \"\"\"\n",
        "    Save a a .pkl file to GCS.\n",
        "    \"\"\"\n",
        "\n",
        "    pkl_list = pickle.dumps(data_list)\n",
        "    blob = bucket.blob(destination_blob)\n",
        "    blob.upload_from_string(pkl_list, content_type = 'application/octet-stream')\n",
        "\n",
        "    print(f\"File {destination_blob} uploaded to GCS.\")\n",
        "    return None\n",
        "\n",
        "def load_pkl_from_gcp(source_blob):\n",
        "    \"\"\"\n",
        "    Load a .pkl file stored in GCS.\n",
        "    \"\"\"\n",
        "\n",
        "    blob = bucket.blob(source_blob)\n",
        "    pkl_data = blob.download_as_string()\n",
        "    data_list = pickle.loads(pkl_data)\n",
        "\n",
        "    print(f\"File {source_blob} loaded from GCS.\")\n",
        "    return data_list\n",
        "\n",
        "def download_blob_to_temp_file(blob_name):\n",
        "    \"\"\"\n",
        "    Download a file from GCS to a local temp file.\n",
        "    \"\"\"\n",
        "    with tempfile.NamedTemporaryFile(delete = False) as temp_file:\n",
        "        blob = bucket.blob(blob_name)\n",
        "        blob.download_to_filename(temp_file.name)\n",
        "    return temp_file.name\n",
        "\n",
        "def upload_file_to_bucket(local_file_path, blob_name):\n",
        "    \"\"\"\n",
        "    Upload a local file to GCS.\n",
        "    \"\"\"\n",
        "    blob = bucket.blob(blob_name)\n",
        "    blob.upload_from_filename(local_file_path)"
      ]
    },
    {
      "cell_type": "code",
      "execution_count": null,
      "metadata": {
        "id": "Q1FqBj8k_tmC"
      },
      "outputs": [],
      "source": [
        "# From midi (.mid) to audio (.wav)\n",
        "\n",
        "def convert_midi_to_wav(midi_directory = midi_directory, wav_directory = wav_directory, soundfont_path = soundfont_path):\n",
        "\n",
        "    \"\"\"\n",
        "    Convert an midi file (.mid) into an audio file (.wav)\n",
        "    \"\"\"\n",
        "\n",
        "    soundfont_local_path = download_blob_to_temp_file(soundfont_path)\n",
        "    fs = FluidSynth(soundfont_local_path)\n",
        "\n",
        "    midi_blobs = sorted([blob.name for blob in bucket.list_blobs(prefix = midi_directory) if blob.name.endswith('.mid')])\n",
        "\n",
        "    for midi_blob in midi_blobs:\n",
        "\n",
        "        midi_local_path = download_blob_to_temp_file(midi_blob)\n",
        "        wav_blob_name = midi_blob.replace(midi_directory, wav_directory).replace('.mid', '.wav')\n",
        "\n",
        "        with tempfile.NamedTemporaryFile(delete=False, suffix='.wav') as wav_temp_file:\n",
        "            wav_local_path = wav_temp_file.name\n",
        "            fs.midi_to_audio(midi_local_path, wav_local_path)\n",
        "\n",
        "        upload_file_to_bucket(wav_local_path, wav_blob_name)\n",
        "\n",
        "        os.remove(midi_local_path)\n",
        "        os.remove(wav_local_path)\n",
        "\n",
        "    os.remove(soundfont_local_path)\n",
        "\n",
        "    return None"
      ]
    },
    {
      "cell_type": "code",
      "execution_count": null,
      "metadata": {
        "id": "TPWTRGQX_vSr"
      },
      "outputs": [],
      "source": [
        "# From audio (.wav) to spectrogram (.png)\n",
        "\n",
        "def from_audio_to_spectrograms(wav_directory = wav_directory, spectrograms_directory = spectrograms_directory):\n",
        "\n",
        "    \"\"\"\n",
        "    Convert an audio file (.wav) into a CQT spectrogram (.png)\n",
        "    \"\"\"\n",
        "\n",
        "    wav_blobs = sorted([blob.name for blob in bucket.list_blobs(prefix = wav_directory) if blob.name.endswith('.wav')])\n",
        "\n",
        "    for i, wav_blob in enumerate(wav_blobs, start = 1):\n",
        "        wav_local_path = download_blob_to_temp_file(wav_blob)\n",
        "        y, sr = librosa.load(wav_local_path, sr = None)\n",
        "\n",
        "        C = librosa.cqt(y, sr = sr)\n",
        "        magnitude = np.abs(C)\n",
        "        C_db = librosa.amplitude_to_db(magnitude, ref = np.max)\n",
        "\n",
        "        plt.figure(figsize=(10, 4))\n",
        "        librosa.display.specshow(C_db, sr = sr)\n",
        "        plt.axis('off')\n",
        "\n",
        "        with tempfile.NamedTemporaryFile(delete = False, suffix = '.png') as spectrogram_temp_file:\n",
        "            spectrogram_local_path = spectrogram_temp_file.name\n",
        "            plt.savefig(spectrogram_local_path, bbox_inches='tight', pad_inches = 0)\n",
        "            plt.close()\n",
        "\n",
        "        spectrogram_blob_name = wav_blob.replace(wav_directory, spectrograms_directory).replace('.wav', '.png')\n",
        "        upload_file_to_bucket(spectrogram_local_path, spectrogram_blob_name)\n",
        "\n",
        "        os.remove(wav_local_path)\n",
        "        os.remove(spectrogram_local_path)\n",
        "\n",
        "        print(f\"Spectrogram {i}/{len(wav_blobs)} saved!\")\n",
        "\n",
        "    return None"
      ]
    },
    {
      "cell_type": "code",
      "execution_count": null,
      "metadata": {
        "id": "ckUdJzvY_w4a"
      },
      "outputs": [],
      "source": [
        "# Notes one-hot encoding\n",
        "\n",
        "def one_hot_encode_midi(midi_directory = midi_directory):\n",
        "    \"\"\"\n",
        "    One-hot encode the midi file notes (ranging from 21 to 108 for piano).\n",
        "    \"\"\"\n",
        "\n",
        "    one_hot_encoded_midi = []\n",
        "\n",
        "    midi_blobs = sorted([blob.name for blob in bucket.list_blobs(prefix = midi_directory) if blob.name.endswith('.mid')])\n",
        "\n",
        "    for midi_blob in midi_blobs:\n",
        "\n",
        "        midi_local_path = download_blob_to_temp_file(midi_blob)\n",
        "\n",
        "        mid = MidiFile(midi_local_path)\n",
        "        one_hot_vector = [0] * 88\n",
        "\n",
        "        for msg in mid:\n",
        "            if msg.type == 'note_on' and msg.velocity > 0:\n",
        "                note_index = msg.note - 21\n",
        "                one_hot_vector[note_index] = 1\n",
        "\n",
        "        one_hot_encoded_midi.append(one_hot_vector)\n",
        "\n",
        "        os.remove(midi_local_path)\n",
        "\n",
        "    one_hot_encoded_midi = np.array(one_hot_encoded_midi)\n",
        "\n",
        "    return one_hot_encoded_midi"
      ]
    },
    {
      "cell_type": "code",
      "execution_count": null,
      "metadata": {
        "id": "eO3vdLm4_ybL"
      },
      "outputs": [],
      "source": [
        "def load_spectrograms_as_array(spectrograms_directory = spectrograms_directory, img_size = (60, 150)):\n",
        "    \"\"\"\n",
        "    Load spectrograms from GCS and convert them to ndarray.\n",
        "    \"\"\"\n",
        "\n",
        "    spectrogram_blobs = sorted([blob.name for blob in bucket.list_blobs(prefix = spectrograms_directory) if blob.name.endswith('.spectrograms') or blob.name.endswith('.png')])\n",
        "\n",
        "    spectrograms = []\n",
        "\n",
        "    for spectrogram_blob in spectrogram_blobs:\n",
        "        spectrogram_local_path = download_blob_to_temp_file(spectrogram_blob)\n",
        "\n",
        "        img = Image.open(spectrogram_local_path)\n",
        "        img = img.convert('L')\n",
        "        img = img.resize(img_size)\n",
        "        img_array = np.array(img) / 255\n",
        "\n",
        "        spectrograms.append(img_array)\n",
        "\n",
        "        os.remove(spectrogram_local_path)\n",
        "\n",
        "    spectrograms_array = np.stack(spectrograms, axis = 0)\n",
        "\n",
        "    return spectrograms_array"
      ]
    },
    {
      "cell_type": "markdown",
      "metadata": {
        "id": "1-DSBkn5_2th"
      },
      "source": [
        "*2*. <u>Create dataset</u>"
      ]
    },
    {
      "cell_type": "code",
      "execution_count": null,
      "metadata": {
        "id": "uCALmO7h_9W6"
      },
      "outputs": [],
      "source": [
        "# Create X (spectograms)\n",
        "\n",
        "#convert_midi_to_wav()\n",
        "\n",
        "#from_audio_to_spectrograms()\n",
        "\n",
        "img_size = (60, 150)\n",
        "\n",
        "X = load_spectrograms_as_array()"
      ]
    },
    {
      "cell_type": "code",
      "execution_count": null,
      "metadata": {
        "colab": {
          "base_uri": "https://localhost:8080/"
        },
        "id": "mTFxt4Bh4QaZ",
        "outputId": "fcc173b8-feb8-4d00-b64e-98241fa86871"
      },
      "outputs": [
        {
          "output_type": "execute_result",
          "data": {
            "text/plain": [
              "True"
            ]
          },
          "metadata": {},
          "execution_count": 13
        }
      ],
      "source": [
        "# Sanity check\n",
        "\n",
        "midi_blobs = [blob.name for blob in bucket.list_blobs(prefix = midi_directory) if blob.name.endswith('.mid')]\n",
        "wav_blobs = [blob.name for blob in bucket.list_blobs(prefix = wav_directory) if blob.name.endswith('.wav')]\n",
        "spectrogram_blobs = [blob.name for blob in bucket.list_blobs(prefix = spectrograms_directory) if blob.name.endswith('.spectrograms') or blob.name.endswith('.png')]\n",
        "\n",
        "len(midi_blobs) == len(wav_blobs) == len(spectrogram_blobs)"
      ]
    },
    {
      "cell_type": "code",
      "execution_count": null,
      "metadata": {
        "id": "6uij6bKG_781"
      },
      "outputs": [],
      "source": [
        "# Create y (encoded notes)\n",
        "\n",
        "y = one_hot_encode_midi()"
      ]
    },
    {
      "cell_type": "code",
      "execution_count": null,
      "metadata": {
        "colab": {
          "base_uri": "https://localhost:8080/",
          "height": 406
        },
        "id": "GpzalCKK3Fq9",
        "outputId": "68551704-6ce0-489d-cfbb-06898b0ff184"
      },
      "outputs": [
        {
          "output_type": "display_data",
          "data": {
            "text/plain": [
              "<Figure size 640x480 with 1 Axes>"
            ],
            "image/png": "[encoded data removed]"
          },
          "metadata": {}
        }
      ],
      "source": [
        "# Visualize first spectrogram\n",
        "\n",
        "plt.imshow(X[0], cmap='gray')\n",
        "plt.axis('off')\n",
        "plt.show()"
      ]
    },
    {
      "cell_type": "code",
      "execution_count": null,
      "metadata": {
        "colab": {
          "base_uri": "https://localhost:8080/"
        },
        "id": "u6cwe2HUTmQ4",
        "outputId": "3a206bd1-b175-4445-c3e5-9cb395612f95"
      },
      "outputs": [
        {
          "output_type": "stream",
          "name": "stdout",
          "text": [
            "File dataset/X uploaded to GCS.\n",
            "File dataset/y uploaded to GCS.\n"
          ]
        }
      ],
      "source": [
        "# Save X and y on GCS\n",
        "\n",
        "save_pkl_to_gcp(X, 'dataset/X')\n",
        "save_pkl_to_gcp(y, 'dataset/y')"
      ]
    }
  ],
  "metadata": {
    "colab": {
      "provenance": [],
      "gpuType": "T4"
    },
    "kernelspec": {
      "display_name": "Python 3",
      "name": "python3"
    },
    "language_info": {
      "name": "python"
    },
    "accelerator": "GPU"
  },
  "nbformat": 4,
  "nbformat_minor": 0
}